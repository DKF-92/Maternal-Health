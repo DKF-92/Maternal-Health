{
 "cells": [
  {
   "cell_type": "markdown",
   "metadata": {},
   "source": [
    "# Maternal Health Predictions\n",
    "\n",
    "1. [Project Summary](#projectsummary)\n",
    "    * 1.1 [Background](#projectbackground)\n",
    "    * 1.2 [Dataset](#dataset)"
   ]
  },
  {
   "cell_type": "markdown",
   "metadata": {},
   "source": [
    "## 1. Project Summary <a class=\"anchor\" id=\"projectsummary\"></a>\n",
    "\n",
    "#### 1.1 Project Background <a class=\"anchor\" id=\"projectbackground\"></a>\n",
    "\n",
    "Inspiration for this project came as at the time of working on this project I am expecting my first child, so this is kind of my nerdy way of fully understanding Maternal Health. I am attempting to pinpoint key trends that will establish the level of risk associated with maternal complications for an expecting mother. Creating an accurate model in this context will supply healthcare experts with a system to accentuate patients who will necessitate extra care and attention over the course of their pregnancy.\n",
    "\n",
    "#### 1.2 Dataset <a class=\"anchor\" id=\"dataset\"></a>\n",
    "\n",
    "Data has been collected from different hospitals, community clinics, and maternal health cares. It was collected through the IoT based risk monitoring system with data from rural areas of Bangladesh. It contains the following columns:\n",
    "\n",
    "* Age: year when the woman was pregnant.\n",
    "* SystolicBP: Upper value of Blood Pressure in mmHg.\n",
    "* DiastolicBP: Lower value of Blood Pressure in mmHg.\n",
    "* BS: Blood glucose levels is in terms of a molar concentration, mmol/L.\n",
    "* BodyTemp: Body temperature measured in fahrenheit\n",
    "* HeartRate: A normal resting heart rate in beats per minute.\n",
    "* Risk Level: Predicted Risk Intensity Level during pregnancy considering the previous attribute."
   ]
  }
 ],
 "metadata": {
  "kernelspec": {
   "display_name": "base",
   "language": "python",
   "name": "python3"
  },
  "language_info": {
   "name": "python",
   "version": "3.10.10"
  }
 },
 "nbformat": 4,
 "nbformat_minor": 2
}
